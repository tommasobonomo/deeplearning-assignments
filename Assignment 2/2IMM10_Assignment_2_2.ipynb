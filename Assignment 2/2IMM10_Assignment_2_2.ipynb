{
 "cells": [
  {
   "cell_type": "markdown",
   "metadata": {
    "colab_type": "text",
    "id": "uj4T8PEHGbMF"
   },
   "source": [
    "# Assignment 2"
   ]
  },
  {
   "cell_type": "markdown",
   "metadata": {
    "colab_type": "text",
    "id": "p-gkaM1tCThc"
   },
   "source": [
    "***\n",
    "## Question 2: Triplet networks & one-shot learning (10pt)\n",
    "\n",
    "In practice 4b.4, we train a Siamese network for one-shot learning task on the Omniglot dataset.  In this assignment, we will work on the same data set with the same task but extend it to triplet networks, we will also compare our model performance under different triplet selection method. The assignment contains the following 4 tasks"
   ]
  },
  {
   "cell_type": "markdown",
   "metadata": {
    "colab_type": "text",
    "id": "ZqdQgnI5AuN5"
   },
   "source": [
    "### Import packages and mount data\n",
    "Before everything, we need to import packages and mount data,\n",
    "*HINT: you could use the dataset in practice 4b.4 directly*"
   ]
  },
  {
   "cell_type": "code",
   "execution_count": 1,
   "metadata": {
    "colab": {},
    "colab_type": "code",
    "id": "8QdDDUEIAuN6"
   },
   "outputs": [],
   "source": [
    "import tensorflow as tf\n",
    "from tensorflow.keras import backend as K\n",
    "from tensorflow.keras.layers import Input, Conv2D, Lambda, Dense, Flatten, MaxPooling2D, Dropout,Concatenate, BatchNormalization\n",
    "from tensorflow.keras.models import Model, Sequential\n",
    "from tensorflow.keras.regularizers import l2\n",
    "from tensorflow.keras.optimizers import Adam\n",
    "from tensorflow.keras.losses import binary_crossentropy\n",
    "import numpy as np\n",
    "import os\n",
    "import pickle\n",
    "import matplotlib.pyplot as plt\n",
    "from sklearn.utils import shuffle\n",
    "\n",
    "from typing import Tuple, Dict, List"
   ]
  },
  {
   "cell_type": "code",
   "execution_count": 2,
   "metadata": {
    "colab": {},
    "colab_type": "code",
    "id": "NEy5u5WBAuN_"
   },
   "outputs": [
    {
     "name": "stdout",
     "output_type": "stream",
     "text": [
      "X_train shape: (964, 20, 105, 105)\n",
      "X_test shape: (659, 20, 105, 105)\n",
      "\n",
      "training alphabets\n",
      "['Japanese_(katakana)', 'N_Ko', 'Japanese_(hiragana)', 'Bengali', 'Tagalog', 'Futurama', 'Braille', 'Arcadian', 'Early_Aramaic', 'Korean', 'Grantha', 'Inuktitut_(Canadian_Aboriginal_Syllabics)', 'Tifinagh', 'Greek', 'Blackfoot_(Canadian_Aboriginal_Syllabics)', 'Gujarati', 'Ojibwe_(Canadian_Aboriginal_Syllabics)', 'Syriac_(Estrangelo)', 'Hebrew', 'Anglo-Saxon_Futhorc', 'Asomtavruli_(Georgian)', 'Mkhedruli_(Georgian)', 'Burmese_(Myanmar)', 'Armenian', 'Latin', 'Cyrillic', 'Sanskrit', 'Alphabet_of_the_Magi', 'Malay_(Jawi_-_Arabic)', 'Balinese']\n",
      "test alphabets:\n",
      "['Tibetan', 'Aurek-Besh', 'Keble', 'Oriya', 'Kannada', 'ULOG', 'Syriac_(Serto)', 'Malayalam', 'Atemayar_Qelisayer', 'Manipuri', 'Old_Church_Slavonic_(Cyrillic)', 'Gurmukhi', 'Sylheti', 'Angelic', 'Tengwar', 'Glagolitic', 'Avesta', 'Atlantean', 'Ge_ez', 'Mongolian']\n"
     ]
    }
   ],
   "source": [
    "PATH = os.path.join(\"data\", \"omniglot\")\n",
    "\n",
    "with open(os.path.join(PATH, \"omniglot_train.p\"), \"rb\") as f:\n",
    "    (X_train, c_train) = pickle.load(f)\n",
    "\n",
    "with open(os.path.join(PATH, \"omniglot_test.p\"), \"rb\") as f:\n",
    "    (X_test, c_test) = pickle.load(f)\n",
    "\n",
    "print(\"X_train shape:\", X_train.shape)\n",
    "print(\"X_test shape:\", X_test.shape)\n",
    "print(\"\")\n",
    "print(\"training alphabets\")\n",
    "print([key for key in c_train.keys()])\n",
    "print(\"test alphabets:\")\n",
    "print([key for key in c_test.keys()])"
   ]
  },
  {
   "cell_type": "markdown",
   "metadata": {
    "colab_type": "text",
    "id": "QP79HYQrXD2k"
   },
   "source": [
    "### Task 2.1: Build  the triplet network (3pt)"
   ]
  },
  {
   "cell_type": "markdown",
   "metadata": {
    "colab_type": "text",
    "id": "1WHpL8iHAuOH"
   },
   "source": [
    "We will define a triplet Network for use with the Omniglot dataset. Each branch of the triplet  is a \"convnet\" model that transforms data to an embeddings space. \n",
    "\n",
    "*HINT: you may need \"Concatenate\" from keras.layer to merge the output layer*"
   ]
  },
  {
   "cell_type": "code",
   "execution_count": 12,
   "metadata": {
    "colab": {},
    "colab_type": "code",
    "id": "GQNaMa8hXD2l"
   },
   "outputs": [],
   "source": [
    "# define a convnet model to transforms data to an embeddings space. \n",
    "# === COMPLETE CODE BELOW ===\n",
    "\n",
    "arch_convnet = \"practical\" # available choices: [\"hoffer\", \"schroff\", \"practical\"]\n",
    "\n",
    "if arch_convnet == \"hoffer\":\n",
    "    # Hoffer: filter size {5,3,3,2}, and feature map dimensions {3,64,128,256,128}\n",
    "    convnet = Sequential([\n",
    "        Conv2D(3, (5, 5), strides=3, activation=\"relu\", padding=\"same\", input_shape=(105, 105, 1)),\n",
    "        MaxPooling2D(),\n",
    "        Conv2D(64, (3, 3), activation=\"relu\", padding=\"same\"),\n",
    "        MaxPooling2D(),\n",
    "        Conv2D(128, (3, 3), activation=\"relu\"),\n",
    "        MaxPooling2D(),\n",
    "        Conv2D(256, (2, 2), activation=\"relu\"),\n",
    "        MaxPooling2D(),\n",
    "        Flatten(),\n",
    "        Dense(4096, activation=\"sigmoid\")\n",
    "    ])\n",
    "elif arch_convnet == \"schroff\":\n",
    "    convnet = Sequential([\n",
    "        Conv2D(64, (1, 1), strides=1, activation=\"relu\", input_shape=(105, 105, 1)),\n",
    "        Conv2D(64, (3, 3), strides=1, activation=\"relu\"),\n",
    "        BatchNormalization(),\n",
    "        MaxPooling2D(),\n",
    "        \n",
    "        Conv2D(192, (1, 1), strides=1, activation=\"relu\"),\n",
    "        Conv2D(192, (3, 3), strides=1, activation=\"relu\"),\n",
    "        MaxPooling2D(),\n",
    "        \n",
    "        Conv2D(384, (1, 1), strides=1, activation=\"relu\"),\n",
    "        Conv2D(384, (3, 3), strides=1, activation=\"relu\"),\n",
    "        \n",
    "        Conv2D(256, (1, 1), strides=1, activation=\"relu\"),\n",
    "        Conv2D(256, (3, 3), strides=1, activation=\"relu\"),\n",
    "        \n",
    "        Conv2D(256, (1, 1), strides=1, activation=\"relu\"),\n",
    "        Conv2D(256, (3, 3), strides=1, activation=\"relu\"),\n",
    "        \n",
    "        MaxPooling2D(),\n",
    "        Flatten(),\n",
    "        Dense(4096, activation=\"sigmoid\")\n",
    "    ])\n",
    "else: # also arch_convnet == \"practical\"\n",
    "    # Practical\n",
    "    convnet = Sequential([\n",
    "        Conv2D(64, (10,10), activation='relu', input_shape=(105, 105, 1), kernel_regularizer=l2(2e-4)),\n",
    "        MaxPooling2D(),\n",
    "        BatchNormalization(),\n",
    "        Dropout(0.25),\n",
    "        Conv2D(128, (7,7), activation='relu', kernel_regularizer=l2(2e-4)),\n",
    "        MaxPooling2D(),\n",
    "        BatchNormalization(),\n",
    "        Dropout(0.25),\n",
    "        Conv2D(128, (4,4), activation='relu', kernel_regularizer=l2(2e-4)),\n",
    "        MaxPooling2D(),\n",
    "        BatchNormalization(),\n",
    "        Dropout(0.25),\n",
    "        Conv2D(256, (4,4), activation='relu', kernel_regularizer=l2(2e-4)),\n",
    "        Flatten(),\n",
    "        BatchNormalization(),\n",
    "        Dropout(0.25),\n",
    "        Dense(4096, activation=\"sigmoid\", kernel_regularizer=l2(1e-3))\n",
    "    ])"
   ]
  },
  {
   "cell_type": "code",
   "execution_count": 13,
   "metadata": {
    "colab": {},
    "colab_type": "code",
    "id": "RXVuWeCsAuOI"
   },
   "outputs": [
    {
     "name": "stdout",
     "output_type": "stream",
     "text": [
      "Model: \"model_1\"\n",
      "__________________________________________________________________________________________________\n",
      "Layer (type)                    Output Shape         Param #     Connected to                     \n",
      "==================================================================================================\n",
      "input (InputLayer)              [(None, 3, 105, 105, 0                                            \n",
      "__________________________________________________________________________________________________\n",
      "lambda_3 (Lambda)               (None, 105, 105, 1)  0           input[0][0]                      \n",
      "__________________________________________________________________________________________________\n",
      "lambda_4 (Lambda)               (None, 105, 105, 1)  0           input[0][0]                      \n",
      "__________________________________________________________________________________________________\n",
      "lambda_5 (Lambda)               (None, 105, 105, 1)  0           input[0][0]                      \n",
      "__________________________________________________________________________________________________\n",
      "sequential_1 (Sequential)       (None, 4096)         38985792    lambda_3[0][0]                   \n",
      "                                                                 lambda_4[0][0]                   \n",
      "                                                                 lambda_5[0][0]                   \n",
      "__________________________________________________________________________________________________\n",
      "concatenate_1 (Concatenate)     (None, 12288)        0           sequential_1[1][0]               \n",
      "                                                                 sequential_1[2][0]               \n",
      "                                                                 sequential_1[3][0]               \n",
      "==================================================================================================\n",
      "Total params: 38,985,792\n",
      "Trainable params: 38,966,720\n",
      "Non-trainable params: 19,072\n",
      "__________________________________________________________________________________________________\n"
     ]
    }
   ],
   "source": [
    "# define a Triplet network\n",
    "\n",
    "# The anchor, positive, negative image are merged together, as the input of the triplet network, then got split to get each one's neural codes.\n",
    "generated = Input(shape=(3, 105, 105, 1), name='input')\n",
    "\n",
    "anchor  = Lambda(lambda x: x[:,0])(generated)\n",
    "pos     = Lambda(lambda x: x[:,1])(generated)\n",
    "neg     = Lambda(lambda x: x[:,2])(generated)\n",
    "                    \n",
    "\n",
    "anchor_embedding    = convnet(anchor)\n",
    "pos_embedding       = convnet(pos)\n",
    "neg_embedding       = convnet(neg)  \n",
    "\n",
    "# merge the anchor, positive, negative embedding together, \n",
    "# let the merged layer be the output of triplet network\n",
    "\n",
    "# === COMPLETE CODE BELOW ===\n",
    "merged_output = Concatenate()([anchor_embedding, pos_embedding, neg_embedding])\n",
    "\n",
    "triplet_net = Model(inputs=generated, outputs=merged_output)\n",
    "triplet_net.summary()"
   ]
  },
  {
   "cell_type": "markdown",
   "metadata": {
    "colab_type": "text",
    "id": "A-XyrIANAuOM"
   },
   "source": [
    "### Task 2.2: Define triplet loss (2pt)\n",
    "\n",
    "You can find the formula of the triplet loss function in our lecture note. When training our model, make sure the network achieves a smaller loss than the margin and the network does not collapse all representations to zero vectors. \n",
    "\n",
    "*HINT: If you experience problems to achieve this goal, it might be helpful to tinker the learning rate, you can also play with the margin value to get better performance*"
   ]
  },
  {
   "cell_type": "code",
   "execution_count": 5,
   "metadata": {
    "colab": {},
    "colab_type": "code",
    "id": "mZ3v2Z0RAuON"
   },
   "outputs": [],
   "source": [
    "# Notice that the ground truth variable is not used for loss calculation. \n",
    "# It is used as a function argument to by-pass some Keras functionality.\n",
    "# This is because the network structure already implies the ground truth for the anchor image with the \"positive\" image.\n",
    "import tensorflow as tf\n",
    "def triplet_loss(ground_truth, network_output):\n",
    "\n",
    "    anchor, positive, negative = tf.split(network_output, num_or_size_splits=3, axis=1)        \n",
    "    \n",
    "    \n",
    "    # === COMPLETE CODE BELOW ===\n",
    "    margin = 0.2 # as specified in Schroff\n",
    "#     anchor_negative = tf.linalg.norm(anchor - negative) ** 2\n",
    "#     anchor_positive = tf.linalg.norm(anchor - positive) ** 2\n",
    "    anchor_negative = tf.reduce_sum((anchor - negative) ** 2)\n",
    "    anchor_positive = tf.reduce_sum((anchor - positive) ** 2)\n",
    "    loss = tf.maximum(\n",
    "        anchor_positive - anchor_negative + margin,\n",
    "        0\n",
    "    )\n",
    "    # We should consider calculating the sum, more informative than the max\n",
    " \n",
    "    return loss"
   ]
  },
  {
   "cell_type": "markdown",
   "metadata": {
    "colab_type": "text",
    "id": "H7Wo8uzTXD2v"
   },
   "source": [
    "### Task 2.3: Select triplets for training (3pt)"
   ]
  },
  {
   "cell_type": "markdown",
   "metadata": {
    "colab_type": "text",
    "id": "tSSr9IzTAuOX"
   },
   "source": [
    "#### Different  selection method\n",
    "\n",
    "We have two different options for the triplet selection method, and we will compare the model performance under these two methods after building our model.\n",
    "\n",
    "(1) Random  triplets selection, including the following steps:\n",
    "* Pick one random class for anchor\n",
    "* Pick two different random picture for this class, as the anchor and positive images\n",
    "* Pick another class for Negative, different from anchor_class\n",
    "* Pick one random picture from the negative class.\n",
    "\n",
    "(2) Hard triplets selection. For easy implement, for a picked anchor, positive pair, we will choose the hardest negative to form a hard triplet, that means, after picking an anchor, positive image, we will choose the negative image which is nearest from anchor image from a negative class, ie: \"- d(a,n)\"  can get the maximum value. The whole process including the following steps:\n",
    "* Pick one random class for anchor\n",
    "* Pick two different random picture for this class, as an anchor and positive images\n",
    "* Pick another class for negative, different from anchor_class\n",
    "* Pick one hardest picture from the negative class.\n",
    "\n",
    "*HINT: when picking the hardest negative, you may need the model.predict to get the embedding of images, the calculate the distances*"
   ]
  },
  {
   "cell_type": "code",
   "execution_count": 6,
   "metadata": {
    "colab": {},
    "colab_type": "code",
    "id": "HcxMsmACAuOY"
   },
   "outputs": [],
   "source": [
    "# Notice that the returned  1 * np.zeros(batch_size) is to by-pass some Keras functionality, corresponding to ground_truth in tripletloss\n",
    "# We use a variable hard_selection to control which method we are going to use. If we set hard_selection == False, we will select triplets random,If we set the variable hard_selection == True, we will select hard triplets.\n",
    "\n",
    "# === COMPLETE CODE BELOW === \n",
    "def get_batch(\n",
    "    X: np.ndarray,\n",
    "    batch_size: int = 64,\n",
    "    hard_selection: bool = False,\n",
    "    convnet: Model = None\n",
    ") -> Tuple[np.ndarray, np.ndarray]:\n",
    "    \n",
    "    while True:\n",
    "\n",
    "        n_classes, n_examples, w, h = X.shape\n",
    "        # initialize result\n",
    "        triplets = np.zeros((batch_size, 3, w, h, 1))\n",
    "        for i in range(batch_size):\n",
    "            #Pick one random class for anchor\n",
    "            anchor_class = np.random.randint(0, n_classes)\n",
    "\n",
    "            #Pick two different random pics for this class => idx_A and idx_P\n",
    "            [idx_A,idx_P] = np.random.choice(n_examples,size=2,replace=False)\n",
    "\n",
    "            #Pick another class for negative, different from anchor_class\n",
    "            # === COMPLETE CODE BELOW === \n",
    "            negative_class = anchor_class\n",
    "            while negative_class == anchor_class:\n",
    "                negative_class = np.random.randint(0, n_classes)\n",
    "\n",
    "            if not hard_selection:\n",
    "                #Pick a random pic from this negative class => N\n",
    "\n",
    "                # === COMPLETE CODE BELOW ===   \n",
    "                idx_N = np.random.randint(0, n_examples)\n",
    "\n",
    "            else:\n",
    "                #Pick a hardest pic from this negative class => N\n",
    "                # === COMPLETE CODE BELOW ===   \n",
    "                negative_class_embeddings = convnet(X_train[negative_class], training=False)\n",
    "                anchor_image_embedding = convnet(X_train[anchor_class][[idx_A]], training=False)\n",
    "                embedding_difference = negative_class_embeddings - anchor_image_embedding\n",
    "                norm_embedding_difference = tf.linalg.norm(embedding_difference, axis=1) ** 2\n",
    "                idx_N = tf.argmin(norm_embedding_difference)\n",
    "\n",
    "            triplets[i][0] = X[anchor_class][idx_A].reshape(w, h, 1)\n",
    "            triplets[i][1] = X[anchor_class][idx_P].reshape(w, h, 1)\n",
    "            triplets[i][2]=  X[negative_class][idx_N].reshape(w, h, 1)\n",
    "\n",
    "        yield triplets, 1 * np.zeros(batch_size)"
   ]
  },
  {
   "cell_type": "code",
   "execution_count": 15,
   "metadata": {},
   "outputs": [],
   "source": [
    "triplet_net.compile(\n",
    "    optimizer=\"adam\",\n",
    "    loss=triplet_loss\n",
    ")"
   ]
  },
  {
   "cell_type": "markdown",
   "metadata": {
    "colab_type": "text",
    "id": "LP1oojLhXD2z"
   },
   "source": [
    "### Task 2.4: One-shot learning with different selection method (2pt)"
   ]
  },
  {
   "cell_type": "markdown",
   "metadata": {
    "colab_type": "text",
    "id": "XHGJp45AR1qm"
   },
   "source": [
    "Function \"make_oneshot_task\" that can randomly setup such a one-shot task from a given test set (if a language is specified, using only classes/characters from that language), i.e. it will generate N pairs of images, where the first image is always the test image, and the second image is one of the N reference images. The pair of images from the same class will have target 1, all other targets are 0.\n",
    "\n",
    "The function \"test_oneshot\" will generate a number (k) of such one-shot tasks and evaluate the performance of a given model on these tasks; it reports the percentage of correctly classified test images\n",
    "\n",
    "In \"test_oneshot\", you can use embeddings extracted from the triplet network with L2-distance to evaluate one-shot learning. i.e. for a given one-shot task, obtain embeddings for the test image as well as the support set. Then pick the image from the support set that is closest (in L2-distance) to the test image as your one-shot prediction.\n",
    "\n",
    "*HINT you can re-use some code from practice 4b.4*"
   ]
  },
  {
   "cell_type": "code",
   "execution_count": 8,
   "metadata": {
    "colab": {},
    "colab_type": "code",
    "id": "RBgoMDwMAuOh"
   },
   "outputs": [],
   "source": [
    "def make_oneshot_task(N, X, c, language=None):\n",
    "    \"\"\"Create pairs of (test image, support set image) with ground truth, for testing N-way one-shot learning.\"\"\"\n",
    "    n_classes, n_examples, w, h = X.shape\n",
    "    indices = np.random.randint(0, n_examples, size=(N,))\n",
    "    if language is not None:\n",
    "        low, high = c[language]\n",
    "        if N > high - low:\n",
    "            raise ValueError(\"This language ({}) has less than {} letters\".format(language, N))\n",
    "        categories = np.random.choice(range(low,high), size=(N,), replace=False)\n",
    "    else:  # if no language specified just pick a bunch of random letters\n",
    "        categories = np.random.choice(range(n_classes), size=(N,), replace=False)            \n",
    "    true_category = categories[0]\n",
    "    ex1, ex2 = np.random.choice(n_examples, replace=False, size=(2,))\n",
    "    test_image = np.asarray([X[true_category, ex1, :, :]]*N).reshape(N, w, h, 1)\n",
    "    support_set = X[categories, indices, :, :]\n",
    "    support_set[0, :, :] = X[true_category, ex2]\n",
    "    support_set = support_set.reshape(N, w, h, 1)\n",
    "    targets = np.zeros((N,))\n",
    "    targets[0] = 1\n",
    "    targets, test_image, support_set = shuffle(targets, test_image, support_set)\n",
    "    pairs = [test_image, support_set]\n",
    "    return pairs, targets"
   ]
  },
  {
   "cell_type": "code",
   "execution_count": 9,
   "metadata": {
    "colab": {},
    "colab_type": "code",
    "id": "rk5F3ffuAuOl"
   },
   "outputs": [],
   "source": [
    "def test_oneshot(\n",
    "    model: Model,\n",
    "    X: np.ndarray,\n",
    "    N: int,\n",
    "    k: int,\n",
    "    c: Dict[str, List[int]],\n",
    "    verbose: bool = True\n",
    "):\n",
    "    # === COMPLETE CODE BELOW ===       \n",
    "    if verbose:\n",
    "        print(f\"Evaluating model on {k} random {N}-way one-shot learning tasks...\")\n",
    "    \n",
    "    n_correct = 0\n",
    "    for i in range(k):\n",
    "        inputs, targets = make_oneshot_task(N, X, c)\n",
    "        test_embedding = model.predict(inputs[0][[0]]) # All first images in inputs are the same, so we can calculate just one\n",
    "        support_embeddings = model.predict(inputs[1])\n",
    "        squared_l2_distances = np.linalg.norm(test_embedding - support_embeddings, ord=2, axis=1) ** 2\n",
    "        if np.argmin(squared_l2_distances) == np.argmax(targets):\n",
    "            n_correct += 1\n",
    "    \n",
    "    percent_correct = 100 * n_correct / k\n",
    "    \n",
    "    if verbose:\n",
    "        print(f\"Average accuracy of {percent_correct}% for {N}-way one-shot learning.\")\n",
    "\n",
    "    return percent_correct"
   ]
  },
  {
   "cell_type": "markdown",
   "metadata": {
    "colab_type": "text",
    "id": "u6yMu4jlXD26"
   },
   "source": [
    "With different triplets selecting method (random and hard), we will train our model and evaluate the model by one-shot learning accuracy.\n",
    "\n",
    "* You need to explicitly state the accuracy under different  triplets selecting method\n",
    "* When evaluating model with test_oneshot function, you should evaluate on 20 way one-shot task, and set the number (k) of evaluation one-shot tasks to be 250, then calculate the average accuracy\n",
    "\n",
    "*HINT: After training our model with random selection method, before train model under hard triplets selection, we should re-build our model (re-run the cell in Task 2.1) to initialize our model and prevent re-use the trained model of random selection*"
   ]
  },
  {
   "cell_type": "markdown",
   "metadata": {
    "colab_type": "text",
    "id": "snKKGhIoXD27"
   },
   "source": [
    "#### Evaluate one-shot learning with  random triplets selection"
   ]
  },
  {
   "cell_type": "code",
   "execution_count": 10,
   "metadata": {
    "colab": {},
    "colab_type": "code",
    "id": "e-r2qB5dAuOt"
   },
   "outputs": [
    {
     "name": "stdout",
     "output_type": "stream",
     "text": [
      "=== Training loop 1 ===\n",
      "100/100 [==============================] - 16s 159ms/step - loss: 0.8309\n",
      "Evaluating model on 250 random 20-way one-shot learning tasks...\n",
      "Average accuracy of 25.6% for 20-way one-shot learning.\n",
      "=== Training loop 2 ===\n",
      "100/100 [==============================] - 16s 159ms/step - loss: 1.0233\n",
      "Evaluating model on 250 random 20-way one-shot learning tasks...\n",
      "Average accuracy of 33.2% for 20-way one-shot learning.\n",
      "=== Training loop 3 ===\n",
      "100/100 [==============================] - 16s 158ms/step - loss: 0.2950\n",
      "Evaluating model on 250 random 20-way one-shot learning tasks...\n",
      "Average accuracy of 26.4% for 20-way one-shot learning.\n",
      "=== Training loop 4 ===\n",
      "100/100 [==============================] - 16s 159ms/step - loss: 0.1009\n",
      "Evaluating model on 250 random 20-way one-shot learning tasks...\n",
      "Average accuracy of 26.4% for 20-way one-shot learning.\n",
      "=== Training loop 5 ===\n",
      "100/100 [==============================] - 16s 158ms/step - loss: 0.0415\n",
      "Evaluating model on 250 random 20-way one-shot learning tasks...\n",
      "Average accuracy of 27.2% for 20-way one-shot learning.\n",
      "=== Training loop 6 ===\n",
      "100/100 [==============================] - 16s 159ms/step - loss: 0.0220\n",
      "Evaluating model on 250 random 20-way one-shot learning tasks...\n",
      "Average accuracy of 23.2% for 20-way one-shot learning.\n",
      "=== Training loop 7 ===\n",
      "100/100 [==============================] - 16s 159ms/step - loss: 0.0150\n",
      "Evaluating model on 250 random 20-way one-shot learning tasks...\n",
      "Average accuracy of 30.0% for 20-way one-shot learning.\n",
      "=== Training loop 8 ===\n",
      "100/100 [==============================] - 16s 158ms/step - loss: 0.0121\n",
      "Evaluating model on 250 random 20-way one-shot learning tasks...\n",
      "Average accuracy of 30.8% for 20-way one-shot learning.\n",
      "=== Training loop 9 ===\n",
      "100/100 [==============================] - 16s 158ms/step - loss: 0.0107\n",
      "Evaluating model on 250 random 20-way one-shot learning tasks...\n",
      "Average accuracy of 22.4% for 20-way one-shot learning.\n",
      "=== Training loop 10 ===\n",
      "100/100 [==============================] - 16s 158ms/step - loss: 0.0097\n",
      "Evaluating model on 250 random 20-way one-shot learning tasks...\n",
      "Average accuracy of 23.6% for 20-way one-shot learning.\n"
     ]
    }
   ],
   "source": [
    "# hard_selection == False, selcet triplets randomly\n",
    "# Train our model and evaluate the model by one-shot learning accuracy.\n",
    "loops = 10\n",
    "best_acc = 0\n",
    "for i in range(loops):\n",
    "    print(\"=== Training loop {} ===\".format(i+1))\n",
    "    # === ADD CODE HERE ===\n",
    "    triplet_net.fit(\n",
    "        get_batch(X_train, batch_size=64, hard_selection=False), steps_per_epoch=100, epochs=1\n",
    "    )\n",
    "    avg_accuracy = test_oneshot(convnet, X_test, 20, 250, c_test)\n",
    "    best_acc = avg_accuracy if avg_accuracy > best_acc else best_acc"
   ]
  },
  {
   "cell_type": "markdown",
   "metadata": {
    "colab_type": "text",
    "id": "YLlvr6TRXD2-"
   },
   "source": [
    "#### Evaluate one-shot learning with  hard triplets selection"
   ]
  },
  {
   "cell_type": "code",
   "execution_count": 16,
   "metadata": {
    "colab": {},
    "colab_type": "code",
    "id": "CN_IDkRHqjb5"
   },
   "outputs": [
    {
     "name": "stdout",
     "output_type": "stream",
     "text": [
      "=== Training loop 1 ===\n",
      "100/100 [==============================] - 134s 1s/step - loss: 1.0169\n",
      "Evaluating model on 250 random 20-way one-shot learning tasks...\n",
      "Average accuracy of 20.8% for 20-way one-shot learning.\n",
      "=== Training loop 2 ===\n",
      "100/100 [==============================] - 134s 1s/step - loss: 9.2950\n",
      "Evaluating model on 250 random 20-way one-shot learning tasks...\n",
      "Average accuracy of 30.8% for 20-way one-shot learning.\n",
      "=== Training loop 3 ===\n",
      "100/100 [==============================] - 134s 1s/step - loss: 61.5961\n",
      "Evaluating model on 250 random 20-way one-shot learning tasks...\n",
      "Average accuracy of 32.4% for 20-way one-shot learning.\n",
      "=== Training loop 4 ===\n",
      "100/100 [==============================] - 135s 1s/step - loss: 34.8998\n",
      "Evaluating model on 250 random 20-way one-shot learning tasks...\n",
      "Average accuracy of 35.2% for 20-way one-shot learning.\n",
      "=== Training loop 5 ===\n",
      "100/100 [==============================] - 134s 1s/step - loss: 13.7147\n",
      "Evaluating model on 250 random 20-way one-shot learning tasks...\n",
      "Average accuracy of 36.8% for 20-way one-shot learning.\n",
      "=== Training loop 6 ===\n",
      "100/100 [==============================] - 134s 1s/step - loss: 38.6304\n",
      "Evaluating model on 250 random 20-way one-shot learning tasks...\n",
      "Average accuracy of 39.6% for 20-way one-shot learning.\n",
      "=== Training loop 7 ===\n",
      "100/100 [==============================] - 135s 1s/step - loss: 16.6625\n",
      "Evaluating model on 250 random 20-way one-shot learning tasks...\n",
      "Average accuracy of 33.2% for 20-way one-shot learning.\n",
      "=== Training loop 8 ===\n",
      "100/100 [==============================] - 137s 1s/step - loss: 16.6146\n",
      "Evaluating model on 250 random 20-way one-shot learning tasks...\n",
      "Average accuracy of 38.8% for 20-way one-shot learning.\n",
      "=== Training loop 9 ===\n",
      "100/100 [==============================] - 140s 1s/step - loss: 16.5118\n",
      "Evaluating model on 250 random 20-way one-shot learning tasks...\n",
      "Average accuracy of 40.8% for 20-way one-shot learning.\n",
      "=== Training loop 10 ===\n",
      "100/100 [==============================] - 136s 1s/step - loss: 16.4006\n",
      "Evaluating model on 250 random 20-way one-shot learning tasks...\n",
      "Average accuracy of 36.0% for 20-way one-shot learning.\n"
     ]
    }
   ],
   "source": [
    "# hard_selection == True, selcet hard triplets\n",
    "# Train our model and evaluate the model by one-shot learning accuracy.\n",
    "loops = 10\n",
    "best_acc = 0\n",
    "for i in range(loops):\n",
    "    print(\"=== Training loop {} ===\".format(i+1))\n",
    "    # === ADD CODE HERE ===\n",
    "    triplet_net.fit(\n",
    "        get_batch(X_train, batch_size=64, hard_selection=True, convnet=convnet), steps_per_epoch=100, epochs=1\n",
    "    )\n",
    "    avg_accuracy = test_oneshot(convnet, X_test, 20, 250, c_test)\n",
    "    best_acc = avg_accuracy if avg_accuracy > best_acc else best_acc"
   ]
  }
 ],
 "metadata": {
  "accelerator": "GPU",
  "colab": {
   "collapsed_sections": [],
   "name": "2IMM10_Assignment_2_2.ipynb",
   "provenance": []
  },
  "kernelspec": {
   "display_name": "Python 3",
   "language": "python",
   "name": "python3"
  },
  "language_info": {
   "codemirror_mode": {
    "name": "ipython",
    "version": 3
   },
   "file_extension": ".py",
   "mimetype": "text/x-python",
   "name": "python",
   "nbconvert_exporter": "python",
   "pygments_lexer": "ipython3",
   "version": "3.6.9"
  }
 },
 "nbformat": 4,
 "nbformat_minor": 4
}
