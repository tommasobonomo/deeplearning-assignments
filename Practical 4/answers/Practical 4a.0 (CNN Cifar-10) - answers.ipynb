{
 "cells": [
  {
   "cell_type": "markdown",
   "metadata": {
    "colab_type": "text",
    "id": "y7HiZ7NOzQ4p"
   },
   "source": [
    "Code based on: https://github.com/keras-team/keras/blob/master/examples/mnist_cnn.py"
   ]
  },
  {
   "cell_type": "code",
   "execution_count": 0,
   "metadata": {
    "colab": {},
    "colab_type": "code",
    "id": "qP2VNjkYzQ4r"
   },
   "outputs": [],
   "source": [
    "import tensorflow as tf\n",
    "from tensorflow.keras.models import Sequential\n",
    "from tensorflow.keras.layers import Dense, Dropout, Conv2D, MaxPooling2D, Flatten, BatchNormalization\n",
    "from tensorflow.keras.utils import to_categorical\n",
    "from tensorflow.keras import backend as K\n",
    "import os\n",
    "import matplotlib.pyplot as plt\n",
    "%matplotlib inline"
   ]
  },
  {
   "cell_type": "markdown",
   "metadata": {
    "colab_type": "text",
    "id": "FBtlSpUOzQ4x"
   },
   "source": [
    "# DATA (Cifar-10)\n",
    "We obtain the Cifar-10 dataset directly through Keras, given as fully labelled training and test sets."
   ]
  },
  {
   "cell_type": "code",
   "execution_count": 0,
   "metadata": {
    "colab": {
     "base_uri": "https://localhost:8080/",
     "height": 71
    },
    "colab_type": "code",
    "executionInfo": {
     "elapsed": 15698,
     "status": "ok",
     "timestamp": 1588711471472,
     "user": {
      "displayName": "Deep Learning",
      "photoUrl": "",
      "userId": "16058886267550359459"
     },
     "user_tz": -120
    },
    "id": "7FmzlVVszQ4x",
    "outputId": "bec003eb-cd29-4c07-bf90-c18f91cee5f2"
   },
   "outputs": [
    {
     "name": "stderr",
     "output_type": "stream",
     "text": [
      "Using TensorFlow backend.\n"
     ]
    },
    {
     "name": "stdout",
     "output_type": "stream",
     "text": [
      "Downloading data from https://www.cs.toronto.edu/~kriz/cifar-10-python.tar.gz\n",
      "170500096/170498071 [==============================] - 11s 0us/step\n"
     ]
    }
   ],
   "source": [
    "from keras.datasets import cifar10\n",
    "(x_train, y_train), (x_test, y_test) = cifar10.load_data()"
   ]
  },
  {
   "cell_type": "markdown",
   "metadata": {
    "colab_type": "text",
    "id": "Lgfg4jsyzQ42"
   },
   "source": [
    "Each example is an image of 32x32 pixels, given as triples (RGB) of integer values from 0 to 255. Each example has a label, an integer 0 to 9. The training set contains 50,000 examples, the test set 10,000."
   ]
  },
  {
   "cell_type": "code",
   "execution_count": 0,
   "metadata": {
    "colab": {
     "base_uri": "https://localhost:8080/",
     "height": 89
    },
    "colab_type": "code",
    "executionInfo": {
     "elapsed": 15691,
     "status": "ok",
     "timestamp": 1588711471477,
     "user": {
      "displayName": "Deep Learning",
      "photoUrl": "",
      "userId": "16058886267550359459"
     },
     "user_tz": -120
    },
    "id": "Npix0OANzQ42",
    "outputId": "1442f58b-31ef-4f6e-cc92-08ab353b71e6"
   },
   "outputs": [
    {
     "name": "stdout",
     "output_type": "stream",
     "text": [
      "(50000, 32, 32, 3)\n",
      "(50000, 1)\n",
      "(10000, 32, 32, 3)\n",
      "(10000, 1)\n"
     ]
    }
   ],
   "source": [
    "print(x_train.shape)\n",
    "print(y_train.shape)\n",
    "print(x_test.shape)\n",
    "print(y_test.shape)"
   ]
  },
  {
   "cell_type": "markdown",
   "metadata": {
    "colab_type": "text",
    "id": "GzujHamjzQ47"
   },
   "source": [
    "Note that each label is in fact an array of length one, as opposed to a simple integer (as it was for MNIST). To solve this, we flatten the label sets."
   ]
  },
  {
   "cell_type": "code",
   "execution_count": 0,
   "metadata": {
    "colab": {
     "base_uri": "https://localhost:8080/",
     "height": 53
    },
    "colab_type": "code",
    "executionInfo": {
     "elapsed": 15682,
     "status": "ok",
     "timestamp": 1588711471478,
     "user": {
      "displayName": "Deep Learning",
      "photoUrl": "",
      "userId": "16058886267550359459"
     },
     "user_tz": -120
    },
    "id": "3kYeRSeVzQ48",
    "outputId": "315172ed-2e37-47d0-bf49-7b52dad3ec93"
   },
   "outputs": [
    {
     "name": "stdout",
     "output_type": "stream",
     "text": [
      "(50000,)\n",
      "(10000,)\n"
     ]
    }
   ],
   "source": [
    "y_train = y_train.flatten()\n",
    "y_test = y_test.flatten()\n",
    "print(y_train.shape)\n",
    "print(y_test.shape)"
   ]
  },
  {
   "cell_type": "markdown",
   "metadata": {
    "colab_type": "text",
    "id": "E4uG54vOzQ5A"
   },
   "source": [
    "Each label represents a different class:\n",
    "\n",
    "0: airplane\t\t\t\t\t\t\t\t\t\t\n",
    "1: automobile\t\t\t\t\t\t\t\t\t\t\n",
    "2: bird\t\t\t\t\t\t\t\t\t\t\n",
    "3: cat\t\t\t\t\t\t\t\t\t\t\n",
    "4: deer\t\t\t\t\t\t\t\t\t\t\n",
    "5: dog\t\t\t\t\t\t\t\t\t\t\n",
    "6: frog\t\t\t\t\t\t\t\t\t\t\n",
    "7: horse\t\t\t\t\t\t\t\t\t\t\n",
    "8: ship\t\t\t\t\t\t\t\t\t\t\n",
    "9: truck"
   ]
  },
  {
   "cell_type": "code",
   "execution_count": 0,
   "metadata": {
    "colab": {},
    "colab_type": "code",
    "id": "aJWJKgDFzQ5B"
   },
   "outputs": [],
   "source": [
    "class_labels = [\"airplane\", \"automobile\", \"bird\", \"cat\", \"deer\", \"dog\", \"frog\", \"horse\", \"ship\", \"truck\"]"
   ]
  },
  {
   "cell_type": "markdown",
   "metadata": {
    "colab_type": "text",
    "id": "E4I7TMIZzQ5E"
   },
   "source": [
    "We can use matplotlib to quickly visualise some of the data."
   ]
  },
  {
   "cell_type": "code",
   "execution_count": 0,
   "metadata": {
    "colab": {
     "base_uri": "https://localhost:8080/",
     "height": 284
    },
    "colab_type": "code",
    "executionInfo": {
     "elapsed": 15670,
     "status": "ok",
     "timestamp": 1588711471481,
     "user": {
      "displayName": "Deep Learning",
      "photoUrl": "",
      "userId": "16058886267550359459"
     },
     "user_tz": -120
    },
    "id": "TfGR4oGpzQ5F",
    "outputId": "086d5678-77db-4fab-e28f-194bb8ed1580"
   },
   "outputs": [
    {
     "name": "stdout",
     "output_type": "stream",
     "text": [
      "Class label: frog\n"
     ]
    },
    {
     "data": {
      "image/png": "[encoded data removed]",
      "text/plain": [
       "<Figure size 432x288 with 1 Axes>"
      ]
     },
     "metadata": {
      "needs_background": "light",
      "tags": []
     },
     "output_type": "display_data"
    }
   ],
   "source": [
    "example_id = 0  # pick any integer from 0 to 49999 to visualize a training example\n",
    "example = x_train[example_id]\n",
    "label = y_train[example_id]\n",
    "print(\"Class label:\", class_labels[label])\n",
    "plt.imshow(example)\n",
    "plt.show()"
   ]
  },
  {
   "cell_type": "markdown",
   "metadata": {
    "colab_type": "text",
    "id": "IGyYiL7OzQ5K"
   },
   "source": [
    "Cifar-10 images have 32\\*32 pixels, with 3 channels each (RGB), and belong to one of 10 possible classes."
   ]
  },
  {
   "cell_type": "code",
   "execution_count": 0,
   "metadata": {
    "colab": {},
    "colab_type": "code",
    "id": "rE6hrDBmzQ5K"
   },
   "outputs": [],
   "source": [
    "img_rows, img_cols, chns = 32, 32, 3\n",
    "n_classes = 10"
   ]
  },
  {
   "cell_type": "markdown",
   "metadata": {
    "colab_type": "text",
    "id": "9jr1erc8zQ5O"
   },
   "source": [
    "* We are going to build a convolutional neural network that starts with convolutional layers. The shape expected by such layers depends on the settings of the backend used with Keras.\n",
    "* The channel values are given by integer values from 0 to 255, we normalise this to obtain float values from 0 to 1.\n",
    "* Labels are given as values 0 to 9, but here we need so-called \"one-hot\" encodings, e.g. 3 becomes [0,0,0,1,0,0,0,0,0,0]"
   ]
  },
  {
   "cell_type": "code",
   "execution_count": 0,
   "metadata": {
    "colab": {},
    "colab_type": "code",
    "id": "xq5PgFqKzQ5P"
   },
   "outputs": [],
   "source": [
    "if K.image_data_format() == 'channels_first':\n",
    "    x_train = x_train.reshape(x_train.shape[0], chns, img_rows, img_cols)\n",
    "    x_test = x_test.reshape(x_test.shape[0], chns, img_rows, img_cols)\n",
    "    input_shape = (chns, img_rows, img_cols)\n",
    "else:\n",
    "    x_train = x_train.reshape(x_train.shape[0], img_rows, img_cols, chns)\n",
    "    x_test = x_test.reshape(x_test.shape[0], img_rows, img_cols, chns)\n",
    "    input_shape = (img_rows, img_cols, chns)\n",
    "\n",
    "x_train = x_train.astype('float32')\n",
    "x_test = x_test.astype('float32')\n",
    "x_train /= 255\n",
    "x_test /= 255\n",
    "\n",
    "# Please dont re-run the following two sentences in case of rewrite y_train and y_test\n",
    "y_train = to_categorical(y_train, n_classes)\n",
    "y_test = to_categorical(y_test, n_classes)"
   ]
  },
  {
   "cell_type": "code",
   "execution_count": 0,
   "metadata": {
    "colab": {
     "base_uri": "https://localhost:8080/",
     "height": 107
    },
    "colab_type": "code",
    "executionInfo": {
     "elapsed": 16142,
     "status": "ok",
     "timestamp": 1588711471971,
     "user": {
      "displayName": "Deep Learning",
      "photoUrl": "",
      "userId": "16058886267550359459"
     },
     "user_tz": -120
    },
    "id": "KJdLcCzGzQ5T",
    "outputId": "95b6bd55-5305-47ff-bfdc-67de269da661"
   },
   "outputs": [
    {
     "name": "stdout",
     "output_type": "stream",
     "text": [
      "(50000, 32, 32, 3)\n",
      "(50000, 10)\n",
      "(10000, 32, 32, 3)\n",
      "(10000, 10)\n",
      "example one-hot encoding: [0. 0. 0. 0. 0. 0. 1. 0. 0. 0.]\n"
     ]
    }
   ],
   "source": [
    "print(x_train.shape)\n",
    "print(y_train.shape)\n",
    "print(x_test.shape)\n",
    "print(y_test.shape)\n",
    "print(\"example one-hot encoding:\", y_train[0])"
   ]
  },
  {
   "cell_type": "markdown",
   "metadata": {
    "colab_type": "text",
    "id": "dOMqWQlpzQ5X"
   },
   "source": [
    "# Model architecture & settings"
   ]
  },
  {
   "cell_type": "markdown",
   "metadata": {
    "colab_type": "text",
    "id": "2g0_jZY_zQ5X"
   },
   "source": [
    "We build a CNN with two Convolutional layers, followed by MaxPooling, followed by some Dense layers (with Dropout).\n",
    "* Initialise a Keras Sequential Model\n",
    "* Add a Convolutional layer (with a 3x3 kernel and ReLU activations), followed by Batch Normalization and Dropout. The first layer must explicitly receive the shape of the input, following layers can do automatice shape inference.\n",
    "* Add another Convolutional layer, followed by a single MaxPooling layer (with a 2x2 patch) for down-scaling, and then again Batch Normalization and Dropout. \n",
    "* We now wish to add Dense layers, but those expect samples to be given as (flat) vectors. To transform the data into this shape we use the Flatten layer. We then add a Dense layer, Batch Normalization, Dropout, and a final Dense layer with softmax activation to obtain class probabilities/predictions.\n",
    "* Optional: print a summary of the model\n",
    "* Compile the model with the following settings:\n",
    "    * use the \"adam\" optimizer to train the model\n",
    "    * MNIST is a multi-class classification problem, use categorical cross entropy loss function\n",
    "    * output accuracy (% of correctly classified instances) when evaluating the model"
   ]
  },
  {
   "cell_type": "code",
   "execution_count": 0,
   "metadata": {
    "colab": {
     "base_uri": "https://localhost:8080/",
     "height": 593
    },
    "colab_type": "code",
    "executionInfo": {
     "elapsed": 24430,
     "status": "ok",
     "timestamp": 1588711480270,
     "user": {
      "displayName": "Deep Learning",
      "photoUrl": "",
      "userId": "16058886267550359459"
     },
     "user_tz": -120
    },
    "id": "QUZqGv66zQ5Y",
    "outputId": "5552fbe3-4d57-4009-c99c-b5fb73532837"
   },
   "outputs": [
    {
     "name": "stdout",
     "output_type": "stream",
     "text": [
      "Model: \"sequential\"\n",
      "_________________________________________________________________\n",
      "Layer (type)                 Output Shape              Param #   \n",
      "=================================================================\n",
      "conv2d (Conv2D)              (None, 30, 30, 32)        896       \n",
      "_________________________________________________________________\n",
      "batch_normalization (BatchNo (None, 30, 30, 32)        128       \n",
      "_________________________________________________________________\n",
      "dropout (Dropout)            (None, 30, 30, 32)        0         \n",
      "_________________________________________________________________\n",
      "conv2d_1 (Conv2D)            (None, 28, 28, 64)        18496     \n",
      "_________________________________________________________________\n",
      "max_pooling2d (MaxPooling2D) (None, 14, 14, 64)        0         \n",
      "_________________________________________________________________\n",
      "batch_normalization_1 (Batch (None, 14, 14, 64)        256       \n",
      "_________________________________________________________________\n",
      "dropout_1 (Dropout)          (None, 14, 14, 64)        0         \n",
      "_________________________________________________________________\n",
      "flatten (Flatten)            (None, 12544)             0         \n",
      "_________________________________________________________________\n",
      "dense (Dense)                (None, 128)               1605760   \n",
      "_________________________________________________________________\n",
      "batch_normalization_2 (Batch (None, 128)               512       \n",
      "_________________________________________________________________\n",
      "dropout_2 (Dropout)          (None, 128)               0         \n",
      "_________________________________________________________________\n",
      "dense_1 (Dense)              (None, 10)                1290      \n",
      "=================================================================\n",
      "Total params: 1,627,338\n",
      "Trainable params: 1,626,890\n",
      "Non-trainable params: 448\n",
      "_________________________________________________________________\n"
     ]
    }
   ],
   "source": [
    "model = Sequential()\n",
    "\n",
    "model.add(Conv2D(32, kernel_size=(3, 3), activation='relu', input_shape=input_shape))\n",
    "model.add(BatchNormalization())\n",
    "model.add(Dropout(0.5))\n",
    "model.add(Conv2D(64, kernel_size=(3, 3), activation='relu'))\n",
    "model.add(MaxPooling2D(pool_size=(2, 2)))\n",
    "model.add(BatchNormalization())\n",
    "model.add(Dropout(0.5))\n",
    "\n",
    "model.add(Flatten())\n",
    "model.add(Dense(128, activation='relu'))\n",
    "model.add(BatchNormalization())\n",
    "model.add(Dropout(0.5))\n",
    "model.add(Dense(n_classes, activation='softmax'))\n",
    "\n",
    "model.summary()\n",
    "\n",
    "model.compile(optimizer=\"adam\", loss=\"categorical_crossentropy\", metrics=[\"accuracy\"])"
   ]
  },
  {
   "cell_type": "markdown",
   "metadata": {
    "colab_type": "text",
    "id": "nM71PoXDzQ5c"
   },
   "source": [
    "# Training the model\n",
    "Train the model (using stochastic gradient descent) with given batch size, for given number of epochs. We split of 1/10-th of the data (5,000 of the 50,000 samples) as validation data, such that we can use the validation accuracy for hyperparameter tuning."
   ]
  },
  {
   "cell_type": "code",
   "execution_count": 0,
   "metadata": {
    "colab": {
     "base_uri": "https://localhost:8080/",
     "height": 775
    },
    "colab_type": "code",
    "executionInfo": {
     "elapsed": 96026,
     "status": "ok",
     "timestamp": 1588711551878,
     "user": {
      "displayName": "Deep Learning",
      "photoUrl": "",
      "userId": "16058886267550359459"
     },
     "user_tz": -120
    },
    "id": "CUl2QtlnzQ5d",
    "outputId": "3b8bcc0e-ae50-4f2c-ad6f-93086284ce38",
    "scrolled": false
   },
   "outputs": [
    {
     "name": "stdout",
     "output_type": "stream",
     "text": [
      "Epoch 1/20\n",
      "450/450 [==============================] - 3s 8ms/step - loss: 1.7658 - accuracy: 0.4100 - val_loss: 2.6137 - val_accuracy: 0.2192\n",
      "Epoch 2/20\n",
      "450/450 [==============================] - 3s 7ms/step - loss: 1.2805 - accuracy: 0.5440 - val_loss: 1.2262 - val_accuracy: 0.5576\n",
      "Epoch 3/20\n",
      "450/450 [==============================] - 3s 7ms/step - loss: 1.1179 - accuracy: 0.6033 - val_loss: 1.2287 - val_accuracy: 0.5644\n",
      "Epoch 4/20\n",
      "450/450 [==============================] - 3s 7ms/step - loss: 1.0281 - accuracy: 0.6364 - val_loss: 1.0063 - val_accuracy: 0.6474\n",
      "Epoch 5/20\n",
      "450/450 [==============================] - 3s 7ms/step - loss: 0.9745 - accuracy: 0.6561 - val_loss: 0.9405 - val_accuracy: 0.6732\n",
      "Epoch 6/20\n",
      "450/450 [==============================] - 3s 7ms/step - loss: 0.9288 - accuracy: 0.6720 - val_loss: 0.9428 - val_accuracy: 0.6696\n",
      "Epoch 7/20\n",
      "450/450 [==============================] - 3s 7ms/step - loss: 0.8953 - accuracy: 0.6844 - val_loss: 0.8553 - val_accuracy: 0.6968\n",
      "Epoch 8/20\n",
      "450/450 [==============================] - 3s 7ms/step - loss: 0.8683 - accuracy: 0.6957 - val_loss: 1.1451 - val_accuracy: 0.6110\n",
      "Epoch 9/20\n",
      "450/450 [==============================] - 3s 7ms/step - loss: 0.8377 - accuracy: 0.7057 - val_loss: 0.9060 - val_accuracy: 0.6890\n",
      "Epoch 10/20\n",
      "450/450 [==============================] - 3s 7ms/step - loss: 0.8103 - accuracy: 0.7142 - val_loss: 0.8494 - val_accuracy: 0.7062\n",
      "Epoch 11/20\n",
      "450/450 [==============================] - 3s 7ms/step - loss: 0.7870 - accuracy: 0.7211 - val_loss: 0.7793 - val_accuracy: 0.7342\n",
      "Epoch 12/20\n",
      "450/450 [==============================] - 3s 7ms/step - loss: 0.7654 - accuracy: 0.7288 - val_loss: 0.8315 - val_accuracy: 0.7194\n",
      "Epoch 13/20\n",
      "450/450 [==============================] - 3s 7ms/step - loss: 0.7411 - accuracy: 0.7380 - val_loss: 0.8109 - val_accuracy: 0.7296\n",
      "Epoch 14/20\n",
      "450/450 [==============================] - 3s 7ms/step - loss: 0.7335 - accuracy: 0.7420 - val_loss: 0.8261 - val_accuracy: 0.7176\n",
      "Epoch 15/20\n",
      "450/450 [==============================] - 3s 7ms/step - loss: 0.7164 - accuracy: 0.7461 - val_loss: 0.7766 - val_accuracy: 0.7322\n",
      "Epoch 16/20\n",
      "450/450 [==============================] - 3s 7ms/step - loss: 0.7056 - accuracy: 0.7521 - val_loss: 0.8053 - val_accuracy: 0.7326\n",
      "Epoch 17/20\n",
      "450/450 [==============================] - 3s 7ms/step - loss: 0.6929 - accuracy: 0.7528 - val_loss: 0.7938 - val_accuracy: 0.7276\n",
      "Epoch 18/20\n",
      "450/450 [==============================] - 3s 7ms/step - loss: 0.6776 - accuracy: 0.7582 - val_loss: 0.7419 - val_accuracy: 0.7440\n",
      "Epoch 19/20\n",
      "450/450 [==============================] - 3s 7ms/step - loss: 0.6661 - accuracy: 0.7632 - val_loss: 0.8051 - val_accuracy: 0.7348\n",
      "Epoch 20/20\n",
      "450/450 [==============================] - 3s 7ms/step - loss: 0.6520 - accuracy: 0.7675 - val_loss: 0.8520 - val_accuracy: 0.7214\n"
     ]
    },
    {
     "data": {
      "text/plain": [
       "<tensorflow.python.keras.callbacks.History at 0x7f87a27b5860>"
      ]
     },
     "execution_count": 11,
     "metadata": {
      "tags": []
     },
     "output_type": "execute_result"
    }
   ],
   "source": [
    "batch_size = 100\n",
    "epochs = 20\n",
    "\n",
    "model.fit(x_train, y_train,\n",
    "          batch_size=batch_size,\n",
    "          epochs=epochs,\n",
    "          validation_split=0.1)"
   ]
  },
  {
   "cell_type": "markdown",
   "metadata": {
    "colab_type": "text",
    "id": "16FSXsL1zQ5g"
   },
   "source": [
    "# Evaluating the model"
   ]
  },
  {
   "cell_type": "markdown",
   "metadata": {
    "colab_type": "text",
    "id": "p5YExfASzQ5h"
   },
   "source": [
    "We evaluate the model using the test set, obtaining the test loss and accuracy (% examples correctly classified)"
   ]
  },
  {
   "cell_type": "code",
   "execution_count": 0,
   "metadata": {
    "colab": {
     "base_uri": "https://localhost:8080/",
     "height": 53
    },
    "colab_type": "code",
    "executionInfo": {
     "elapsed": 97037,
     "status": "ok",
     "timestamp": 1588711552899,
     "user": {
      "displayName": "Deep Learning",
      "photoUrl": "",
      "userId": "16058886267550359459"
     },
     "user_tz": -120
    },
    "id": "PS8zb1zEzQ5h",
    "outputId": "ba95c3aa-8070-4e5a-ac13-ef61f4c59e16"
   },
   "outputs": [
    {
     "name": "stdout",
     "output_type": "stream",
     "text": [
      "Test loss: 0.8921840786933899\n",
      "Test accuracy: 0.7067999839782715\n"
     ]
    }
   ],
   "source": [
    "loss, accuracy = model.evaluate(x_test, y_test, verbose=0)\n",
    "\n",
    "print('Test loss:', loss)\n",
    "print('Test accuracy:', accuracy)"
   ]
  },
  {
   "cell_type": "markdown",
   "metadata": {
    "colab_type": "text",
    "collapsed": true,
    "id": "35A_JcbozQ5l"
   },
   "source": [
    "# Saving the model\n",
    "We save the model to a .h5 file, such that we can load it later in other notebooks."
   ]
  },
  {
   "cell_type": "code",
   "execution_count": null,
   "metadata": {
    "colab": {
     "base_uri": "https://localhost:8080/",
     "height": 127
    },
    "colab_type": "code",
    "executionInfo": {
     "elapsed": 119450,
     "status": "ok",
     "timestamp": 1588711575319,
     "user": {
      "displayName": "Deep Learning",
      "photoUrl": "",
      "userId": "16058886267550359459"
     },
     "user_tz": -120
    },
    "id": "WbIbkZPszQ5l",
    "outputId": "f53ec86a-88e7-435f-dace-de34ccbc84dc"
   },
   "outputs": [],
   "source": [
    "# mount google drive, so that we can save our model there\n",
    "from google.colab import drive\n",
    "!mkdir drive\n",
    "drive.mount('drive')"
   ]
  },
  {
   "cell_type": "code",
   "execution_count": 0,
   "metadata": {
    "colab": {},
    "colab_type": "code",
    "id": "V2WLBvQdzQ5o"
   },
   "outputs": [],
   "source": [
    "model_path=os.path.join(\"drive\",\"My Drive\",\"models\")\n",
    "if not os.path.exists(model_path) :              \n",
    "    os.makedirs(model_path)\n",
    "model.save(os.path.join(model_path, \"cnn_cifar10.h5\"))"
   ]
  }
 ],
 "metadata": {
  "accelerator": "GPU",
  "colab": {
   "name": "Practical 4a.0 (CNN Cifar-10) - answers.ipynb",
   "provenance": []
  },
  "kernelspec": {
   "display_name": "Python 3",
   "language": "python",
   "name": "python3"
  },
  "language_info": {
   "codemirror_mode": {
    "name": "ipython",
    "version": 3
   },
   "file_extension": ".py",
   "mimetype": "text/x-python",
   "name": "python",
   "nbconvert_exporter": "python",
   "pygments_lexer": "ipython3",
   "version": "3.7.4"
  }
 },
 "nbformat": 4,
 "nbformat_minor": 1
}
